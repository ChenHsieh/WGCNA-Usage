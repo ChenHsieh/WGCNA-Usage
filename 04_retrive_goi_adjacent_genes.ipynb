{
 "cells": [
  {
   "cell_type": "markdown",
   "metadata": {},
   "source": [
    "# retrieve the closest genes of the GOI "
   ]
  },
  {
   "cell_type": "markdown",
   "metadata": {},
   "source": [
    "first we need some post processing of the output of the WGCNA script"
   ]
  },
  {
   "cell_type": "code",
   "execution_count": 1,
   "metadata": {},
   "outputs": [],
   "source": [
    "import pandas as pd\n",
    "\n",
    "import os\n",
    "\n",
    "# set the path\n",
    "data_dir = os.path.join('data')\n",
    "output_dir = os.path.join('output_TPM5_CV50_stem_power6') # renaming the output based on the parameters used\n",
    "\n",
    "annot = pd.read_csv(os.path.join(data_dir, \"lab_annotation_tremula.csv\"), index_col=\"geneID\")\n",
    "connectivity_df = pd.read_csv(os.path.join(output_dir, \"connectivity_table.csv\"), index_col=0)\n",
    "connectivity_df.join(annot).to_csv(os.path.join(output_dir, \"connectivity_table_annot.csv\"))"
   ]
  },
  {
   "cell_type": "markdown",
   "metadata": {},
   "source": [
    "retrieve the goi related info"
   ]
  },
  {
   "cell_type": "code",
   "execution_count": 2,
   "metadata": {},
   "outputs": [],
   "source": [
    "import pandas as pd\n",
    "\n",
    "adj_df = pd.read_csv(os.path.join(output_dir, \"adj_matrix.csv\"), index_col=0)\n",
    "k_df = pd.read_csv(os.path.join(output_dir, \"connectivity_table_annot.csv\"), index_col=0)\n",
    "\n",
    "goi_list = [\n",
    "    \"PtXaTreH.14G131700\",\n",
    "    \"PtXaTreH.10G125100\",\n",
    "    \"PtXaTreH.06G010600\",\n",
    "    \"PtXaTreH.05G120200\",\n",
    "    \"PtXaTreH.03G064200\",\n",
    "    \"PtXaTreH.02G086600\",\n",
    "]"
   ]
  },
  {
   "cell_type": "code",
   "execution_count": 3,
   "metadata": {},
   "outputs": [],
   "source": [
    "adj_df = adj_df.reset_index()\n",
    "adj_df.index = adj_df.columns"
   ]
  },
  {
   "cell_type": "markdown",
   "metadata": {},
   "source": [
    "## basic stats info "
   ]
  },
  {
   "cell_type": "code",
   "execution_count": 4,
   "metadata": {},
   "outputs": [],
   "source": [
    "# Describe the selected columns with additional percentiles\n",
    "percentiles = [0.1, 0.2, 0.3, 0.4, 0.5, 0.6, 0.7, 0.8, 0.9]\n",
    "\n",
    "descriptive_stats = adj_df.describe(percentiles=percentiles)\n",
    "\n",
    "# Display the descriptive statistics\n",
    "descriptive_stats = descriptive_stats.T\n",
    "\n",
    "descriptive_stats.loc[:,[\"mean\",\"std\",\"min\",\"50%\",\"60%\",\"70%\",\"80%\",\"90%\"]].join(k_df).to_csv(\"adj_stat_annot.csv\")\n",
    "descriptive_stats = descriptive_stats.loc[:,[\"mean\",\"std\",\"min\",\"50%\",\"60%\",\"70%\",\"80%\",\"90%\"]]\n",
    "descriptive_stats = descriptive_stats.add_suffix(\"_PCC\")\n",
    "\n",
    "for thresdhold in percentiles:\n",
    "    descriptive_stats[f\"gene number PCC > {thresdhold}\"] = (adj_df>thresdhold).sum()\n",
    "\n",
    "descriptive_stats.join(k_df).to_csv(os.path.join(output_dir,\"adj_stat_annot.csv\"))"
   ]
  },
  {
   "cell_type": "markdown",
   "metadata": {},
   "source": [
    "## export the most closely related genes based on a cutoff"
   ]
  },
  {
   "cell_type": "code",
   "execution_count": 5,
   "metadata": {},
   "outputs": [
    {
     "name": "stdout",
     "output_type": "stream",
     "text": [
      "Error processing PtXaTreH.02G086600\n"
     ]
    }
   ],
   "source": [
    "threshold = 0.7\n",
    "\n",
    "output_genelist_dir = os.path.join(output_dir, \"adjacent_gene_list\")\n",
    "# create dir if not exist\n",
    "if not os.path.exists(output_genelist_dir):\n",
    "    os.makedirs(output_genelist_dir)\n",
    "\n",
    "for goi in goi_list:\n",
    "    # Extract correlated genes\n",
    "    try:\n",
    "        correlated_genes = adj_df.loc[goi][adj_df.loc[goi] > threshold].dropna()\n",
    "        goi_module = k_df.loc[goi].Module\n",
    "        if not correlated_genes.empty:\n",
    "            # Create a DataFrame\n",
    "            correlated_genes_df = pd.DataFrame(correlated_genes).reset_index()\n",
    "            correlated_genes_df.columns = ['gene', 'adj_value']\n",
    "            correlated_genes_df = correlated_genes_df.set_index('gene')\n",
    "            # Join with annotation DataFrame\n",
    "            result_df = correlated_genes_df.join(k_df)\n",
    "\n",
    "            # Save to CSV\n",
    "            result_df.to_csv(os.path.join(output_genelist_dir, f'{goi}_{goi_module}_correlated_genes.csv'))\n",
    "    except:\n",
    "        print(f\"Error processing {goi}\")\n",
    "        continue"
   ]
  },
  {
   "cell_type": "code",
   "execution_count": null,
   "metadata": {},
   "outputs": [],
   "source": []
  }
 ],
 "metadata": {
  "kernelspec": {
   "display_name": "pywgcna",
   "language": "python",
   "name": "python3"
  },
  "language_info": {
   "codemirror_mode": {
    "name": "ipython",
    "version": 3
   },
   "file_extension": ".py",
   "mimetype": "text/x-python",
   "name": "python",
   "nbconvert_exporter": "python",
   "pygments_lexer": "ipython3",
   "version": "3.12.3"
  }
 },
 "nbformat": 4,
 "nbformat_minor": 2
}
